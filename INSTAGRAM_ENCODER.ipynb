{
  "nbformat": 4,
  "nbformat_minor": 0,
  "metadata": {
    "colab": {
      "provenance": [],
      "authorship_tag": "ABX9TyMJyeWdj77jmCvTIQeK5eeZ",
      "include_colab_link": true
    },
    "kernelspec": {
      "name": "python3",
      "display_name": "Python 3"
    },
    "language_info": {
      "name": "python"
    }
  },
  "cells": [
    {
      "cell_type": "markdown",
      "metadata": {
        "id": "view-in-github",
        "colab_type": "text"
      },
      "source": [
        "<a href=\"https://colab.research.google.com/github/VMLmartech/encoderinstagram/blob/main/INSTAGRAM_ENCODER.ipynb\" target=\"_parent\"><img src=\"https://colab.research.google.com/assets/colab-badge.svg\" alt=\"Open In Colab\"/></a>"
      ]
    },
    {
      "cell_type": "code",
      "source": [
        "!pip install gspread\n",
        "!pip install ftfy\n",
        "!pip install gspread dash pandas\n"
      ],
      "metadata": {
        "colab": {
          "base_uri": "https://localhost:8080/"
        },
        "id": "woaa4zZ261U3",
        "outputId": "39b78e9e-2281-4473-9f98-f1252bd89254"
      },
      "execution_count": 14,
      "outputs": [
        {
          "output_type": "stream",
          "name": "stdout",
          "text": [
            "Requirement already satisfied: gspread in /usr/local/lib/python3.11/dist-packages (6.1.4)\n",
            "Requirement already satisfied: google-auth>=1.12.0 in /usr/local/lib/python3.11/dist-packages (from gspread) (2.38.0)\n",
            "Requirement already satisfied: google-auth-oauthlib>=0.4.1 in /usr/local/lib/python3.11/dist-packages (from gspread) (1.2.1)\n",
            "Requirement already satisfied: cachetools<6.0,>=2.0.0 in /usr/local/lib/python3.11/dist-packages (from google-auth>=1.12.0->gspread) (5.5.2)\n",
            "Requirement already satisfied: pyasn1-modules>=0.2.1 in /usr/local/lib/python3.11/dist-packages (from google-auth>=1.12.0->gspread) (0.4.1)\n",
            "Requirement already satisfied: rsa<5,>=3.1.4 in /usr/local/lib/python3.11/dist-packages (from google-auth>=1.12.0->gspread) (4.9)\n",
            "Requirement already satisfied: requests-oauthlib>=0.7.0 in /usr/local/lib/python3.11/dist-packages (from google-auth-oauthlib>=0.4.1->gspread) (2.0.0)\n",
            "Requirement already satisfied: pyasn1<0.7.0,>=0.4.6 in /usr/local/lib/python3.11/dist-packages (from pyasn1-modules>=0.2.1->google-auth>=1.12.0->gspread) (0.6.1)\n",
            "Requirement already satisfied: oauthlib>=3.0.0 in /usr/local/lib/python3.11/dist-packages (from requests-oauthlib>=0.7.0->google-auth-oauthlib>=0.4.1->gspread) (3.2.2)\n",
            "Requirement already satisfied: requests>=2.0.0 in /usr/local/lib/python3.11/dist-packages (from requests-oauthlib>=0.7.0->google-auth-oauthlib>=0.4.1->gspread) (2.32.3)\n",
            "Requirement already satisfied: charset-normalizer<4,>=2 in /usr/local/lib/python3.11/dist-packages (from requests>=2.0.0->requests-oauthlib>=0.7.0->google-auth-oauthlib>=0.4.1->gspread) (3.4.1)\n",
            "Requirement already satisfied: idna<4,>=2.5 in /usr/local/lib/python3.11/dist-packages (from requests>=2.0.0->requests-oauthlib>=0.7.0->google-auth-oauthlib>=0.4.1->gspread) (3.10)\n",
            "Requirement already satisfied: urllib3<3,>=1.21.1 in /usr/local/lib/python3.11/dist-packages (from requests>=2.0.0->requests-oauthlib>=0.7.0->google-auth-oauthlib>=0.4.1->gspread) (2.3.0)\n",
            "Requirement already satisfied: certifi>=2017.4.17 in /usr/local/lib/python3.11/dist-packages (from requests>=2.0.0->requests-oauthlib>=0.7.0->google-auth-oauthlib>=0.4.1->gspread) (2025.1.31)\n",
            "Requirement already satisfied: ftfy in /usr/local/lib/python3.11/dist-packages (6.3.1)\n",
            "Requirement already satisfied: wcwidth in /usr/local/lib/python3.11/dist-packages (from ftfy) (0.2.13)\n",
            "Requirement already satisfied: gspread in /usr/local/lib/python3.11/dist-packages (6.1.4)\n",
            "Collecting dash\n",
            "  Downloading dash-2.18.2-py3-none-any.whl.metadata (10 kB)\n",
            "Requirement already satisfied: pandas in /usr/local/lib/python3.11/dist-packages (2.2.2)\n",
            "Requirement already satisfied: google-auth>=1.12.0 in /usr/local/lib/python3.11/dist-packages (from gspread) (2.38.0)\n",
            "Requirement already satisfied: google-auth-oauthlib>=0.4.1 in /usr/local/lib/python3.11/dist-packages (from gspread) (1.2.1)\n",
            "Collecting Flask<3.1,>=1.0.4 (from dash)\n",
            "  Downloading flask-3.0.3-py3-none-any.whl.metadata (3.2 kB)\n",
            "Collecting Werkzeug<3.1 (from dash)\n",
            "  Downloading werkzeug-3.0.6-py3-none-any.whl.metadata (3.7 kB)\n",
            "Requirement already satisfied: plotly>=5.0.0 in /usr/local/lib/python3.11/dist-packages (from dash) (5.24.1)\n",
            "Collecting dash-html-components==2.0.0 (from dash)\n",
            "  Downloading dash_html_components-2.0.0-py3-none-any.whl.metadata (3.8 kB)\n",
            "Collecting dash-core-components==2.0.0 (from dash)\n",
            "  Downloading dash_core_components-2.0.0-py3-none-any.whl.metadata (2.9 kB)\n",
            "Collecting dash-table==5.0.0 (from dash)\n",
            "  Downloading dash_table-5.0.0-py3-none-any.whl.metadata (2.4 kB)\n",
            "Requirement already satisfied: importlib-metadata in /usr/local/lib/python3.11/dist-packages (from dash) (8.6.1)\n",
            "Requirement already satisfied: typing-extensions>=4.1.1 in /usr/local/lib/python3.11/dist-packages (from dash) (4.12.2)\n",
            "Requirement already satisfied: requests in /usr/local/lib/python3.11/dist-packages (from dash) (2.32.3)\n",
            "Collecting retrying (from dash)\n",
            "  Downloading retrying-1.3.4-py3-none-any.whl.metadata (6.9 kB)\n",
            "Requirement already satisfied: nest-asyncio in /usr/local/lib/python3.11/dist-packages (from dash) (1.6.0)\n",
            "Requirement already satisfied: setuptools in /usr/local/lib/python3.11/dist-packages (from dash) (75.1.0)\n",
            "Requirement already satisfied: numpy>=1.23.2 in /usr/local/lib/python3.11/dist-packages (from pandas) (1.26.4)\n",
            "Requirement already satisfied: python-dateutil>=2.8.2 in /usr/local/lib/python3.11/dist-packages (from pandas) (2.8.2)\n",
            "Requirement already satisfied: pytz>=2020.1 in /usr/local/lib/python3.11/dist-packages (from pandas) (2025.1)\n",
            "Requirement already satisfied: tzdata>=2022.7 in /usr/local/lib/python3.11/dist-packages (from pandas) (2025.1)\n",
            "Requirement already satisfied: Jinja2>=3.1.2 in /usr/local/lib/python3.11/dist-packages (from Flask<3.1,>=1.0.4->dash) (3.1.6)\n",
            "Requirement already satisfied: itsdangerous>=2.1.2 in /usr/local/lib/python3.11/dist-packages (from Flask<3.1,>=1.0.4->dash) (2.2.0)\n",
            "Requirement already satisfied: click>=8.1.3 in /usr/local/lib/python3.11/dist-packages (from Flask<3.1,>=1.0.4->dash) (8.1.8)\n",
            "Requirement already satisfied: blinker>=1.6.2 in /usr/local/lib/python3.11/dist-packages (from Flask<3.1,>=1.0.4->dash) (1.9.0)\n",
            "Requirement already satisfied: cachetools<6.0,>=2.0.0 in /usr/local/lib/python3.11/dist-packages (from google-auth>=1.12.0->gspread) (5.5.2)\n",
            "Requirement already satisfied: pyasn1-modules>=0.2.1 in /usr/local/lib/python3.11/dist-packages (from google-auth>=1.12.0->gspread) (0.4.1)\n",
            "Requirement already satisfied: rsa<5,>=3.1.4 in /usr/local/lib/python3.11/dist-packages (from google-auth>=1.12.0->gspread) (4.9)\n",
            "Requirement already satisfied: requests-oauthlib>=0.7.0 in /usr/local/lib/python3.11/dist-packages (from google-auth-oauthlib>=0.4.1->gspread) (2.0.0)\n",
            "Requirement already satisfied: tenacity>=6.2.0 in /usr/local/lib/python3.11/dist-packages (from plotly>=5.0.0->dash) (9.0.0)\n",
            "Requirement already satisfied: packaging in /usr/local/lib/python3.11/dist-packages (from plotly>=5.0.0->dash) (24.2)\n",
            "Requirement already satisfied: six>=1.5 in /usr/local/lib/python3.11/dist-packages (from python-dateutil>=2.8.2->pandas) (1.17.0)\n",
            "Requirement already satisfied: MarkupSafe>=2.1.1 in /usr/local/lib/python3.11/dist-packages (from Werkzeug<3.1->dash) (3.0.2)\n",
            "Requirement already satisfied: zipp>=3.20 in /usr/local/lib/python3.11/dist-packages (from importlib-metadata->dash) (3.21.0)\n",
            "Requirement already satisfied: charset-normalizer<4,>=2 in /usr/local/lib/python3.11/dist-packages (from requests->dash) (3.4.1)\n",
            "Requirement already satisfied: idna<4,>=2.5 in /usr/local/lib/python3.11/dist-packages (from requests->dash) (3.10)\n",
            "Requirement already satisfied: urllib3<3,>=1.21.1 in /usr/local/lib/python3.11/dist-packages (from requests->dash) (2.3.0)\n",
            "Requirement already satisfied: certifi>=2017.4.17 in /usr/local/lib/python3.11/dist-packages (from requests->dash) (2025.1.31)\n",
            "Requirement already satisfied: pyasn1<0.7.0,>=0.4.6 in /usr/local/lib/python3.11/dist-packages (from pyasn1-modules>=0.2.1->google-auth>=1.12.0->gspread) (0.6.1)\n",
            "Requirement already satisfied: oauthlib>=3.0.0 in /usr/local/lib/python3.11/dist-packages (from requests-oauthlib>=0.7.0->google-auth-oauthlib>=0.4.1->gspread) (3.2.2)\n",
            "Downloading dash-2.18.2-py3-none-any.whl (7.8 MB)\n",
            "\u001b[2K   \u001b[90m━━━━━━━━━━━━━━━━━━━━━━━━━━━━━━━━━━━━━━━━\u001b[0m \u001b[32m7.8/7.8 MB\u001b[0m \u001b[31m46.0 MB/s\u001b[0m eta \u001b[36m0:00:00\u001b[0m\n",
            "\u001b[?25hDownloading dash_core_components-2.0.0-py3-none-any.whl (3.8 kB)\n",
            "Downloading dash_html_components-2.0.0-py3-none-any.whl (4.1 kB)\n",
            "Downloading dash_table-5.0.0-py3-none-any.whl (3.9 kB)\n",
            "Downloading flask-3.0.3-py3-none-any.whl (101 kB)\n",
            "\u001b[2K   \u001b[90m━━━━━━━━━━━━━━━━━━━━━━━━━━━━━━━━━━━━━━━━\u001b[0m \u001b[32m101.7/101.7 kB\u001b[0m \u001b[31m5.6 MB/s\u001b[0m eta \u001b[36m0:00:00\u001b[0m\n",
            "\u001b[?25hDownloading werkzeug-3.0.6-py3-none-any.whl (227 kB)\n",
            "\u001b[2K   \u001b[90m━━━━━━━━━━━━━━━━━━━━━━━━━━━━━━━━━━━━━━━━\u001b[0m \u001b[32m228.0/228.0 kB\u001b[0m \u001b[31m14.3 MB/s\u001b[0m eta \u001b[36m0:00:00\u001b[0m\n",
            "\u001b[?25hDownloading retrying-1.3.4-py3-none-any.whl (11 kB)\n",
            "Installing collected packages: dash-table, dash-html-components, dash-core-components, Werkzeug, retrying, Flask, dash\n",
            "  Attempting uninstall: Werkzeug\n",
            "    Found existing installation: Werkzeug 3.1.3\n",
            "    Uninstalling Werkzeug-3.1.3:\n",
            "      Successfully uninstalled Werkzeug-3.1.3\n",
            "  Attempting uninstall: Flask\n",
            "    Found existing installation: Flask 3.1.0\n",
            "    Uninstalling Flask-3.1.0:\n",
            "      Successfully uninstalled Flask-3.1.0\n",
            "Successfully installed Flask-3.0.3 Werkzeug-3.0.6 dash-2.18.2 dash-core-components-2.0.0 dash-html-components-2.0.0 dash-table-5.0.0 retrying-1.3.4\n"
          ]
        }
      ]
    },
    {
      "cell_type": "code",
      "execution_count": 16,
      "metadata": {
        "id": "0Yz9D9x_4ABV"
      },
      "outputs": [],
      "source": [
        "import pandas as pd\n",
        "import numpy as np\n",
        "import matplotlib.pyplot as plt\n",
        "from dash import Dash, dcc, html, Input, Output, dash_table"
      ]
    },
    {
      "cell_type": "code",
      "source": [
        "from google.colab import auth\n",
        "auth.authenticate_user()\n",
        "\n",
        "import gspread\n",
        "from google.auth import default\n",
        "creds, _ = default()\n",
        "\n",
        "# Leer datos desde Google Sheets\n",
        "gc = gspread.authorize(creds)\n",
        "worksheet = gc.open('JUMBO-BBDD').worksheet('IG_COMMENTS')\n",
        "rows = worksheet.get_all_values()\n",
        "\n",
        "# Convertir a DataFrame\n",
        "df = pd.DataFrame(rows[1:], columns=rows[0])  # Asumiendo que la primera fila son encabezados\n",
        "\n",
        "# Aplicar fix_text para corregir caracteres mal codificados\n",
        "df = df.applymap(fix_text)\n",
        "\n",
        "# Ver resultado\n",
        "print(df.head())\n",
        "\n"
      ],
      "metadata": {
        "colab": {
          "base_uri": "https://localhost:8080/"
        },
        "id": "Y0zR10xu4e0t",
        "outputId": "ae126a78-cfec-4646-ca6c-0db4cec576a2"
      },
      "execution_count": 17,
      "outputs": [
        {
          "output_type": "stream",
          "name": "stderr",
          "text": [
            "<ipython-input-17-9e132f49f66f>:17: FutureWarning: DataFrame.applymap has been deprecated. Use DataFrame.map instead.\n",
            "  df = df.applymap(fix_text)\n"
          ]
        },
        {
          "output_type": "stream",
          "name": "stdout",
          "text": [
            "       User Id                      Username         Comment Id  \\\n",
            "0  51223151737                     kailychi1  17932657652601213   \n",
            "1   4110503699  rocio_jazmin_alarcon_herrera  18099390685324786   \n",
            "2   1754003455     hablandoconelpropiojanusz  17985996749136753   \n",
            "3    212201580              chocolates_jumbo  18290008579116821   \n",
            "4    212201580              chocolates_jumbo  18023586430510352   \n",
            "\n",
            "                                      Comment  \\\n",
            "0                                ❤️❤️❤️❤️❤️❤️   \n",
            "1                     Amo la Flow blanca ü§§   \n",
            "2  ü§§ü§§ü§§ü§§ Saludos @chocolates_jumbo   \n",
            "3           @rocio_jazmin_alarcon_herrera 😍😍😍   \n",
            "4    @hablandoconelpropiojanusz ¡Saludos! ✌️😎   \n",
            "\n",
            "                                         Profile URL  \\\n",
            "0                https://www.instagram.com/kailychi1   \n",
            "1  https://www.instagram.com/rocio_jazmin_alarcon...   \n",
            "2  https://www.instagram.com/hablandoconelpropioj...   \n",
            "3         https://www.instagram.com/chocolates_jumbo   \n",
            "4         https://www.instagram.com/chocolates_jumbo   \n",
            "\n",
            "                                     Profile Pic URL                 Date  \\\n",
            "0  https://instagram.fbaq2-2.fna.fbcdn.net/v/t51....  14/6/2023, 17:47:48   \n",
            "1  https://instagram.fbaq2-2.fna.fbcdn.net/v/t51....  14/6/2023, 18:03:55   \n",
            "2  https://instagram.fbaq2-2.fna.fbcdn.net/v/t51....  14/6/2023, 21:29:21   \n",
            "3  https://instagram.fbaq2-2.fna.fbcdn.net/v/t51....   15/6/2023, 8:11:48   \n",
            "4  https://instagram.fbaq2-2.fna.fbcdn.net/v/t51....   15/6/2023, 8:13:02   \n",
            "\n",
            "                                      Url_Post New_Comment  \n",
            "0  https://www.instagram.com/reel/CtfOf2bAcHo/              \n",
            "1  https://www.instagram.com/reel/CtfOf2bAcHo/              \n",
            "2  https://www.instagram.com/reel/CtfOf2bAcHo/              \n",
            "3  https://www.instagram.com/reel/CtfOf2bAcHo/              \n",
            "4  https://www.instagram.com/reel/CtfOf2bAcHo/              \n"
          ]
        }
      ]
    },
    {
      "cell_type": "code",
      "source": [
        "from ftfy import fix_text\n",
        "\n",
        "def fix_encoding(text):\n",
        "    try:\n",
        "        # Try decoding with utf-8 first\n",
        "        return text.encode('utf-8').decode('utf-8')\n",
        "    except UnicodeEncodeError:\n",
        "        # If utf-8 fails, try latin-1 and then fix with ftfy\n",
        "        return fix_text(text.encode('latin1').decode('latin1', errors='ignore'))\n",
        "    except AttributeError: # If the value is already decoded ignore it:\n",
        "        return text\n",
        "\n",
        "\n",
        "df[\"Comment\"] = df[\"Comment\"].apply(fix_encoding)\n",
        "df[\"Comment\"] = df[\"Comment\"].apply(fix_text)"
      ],
      "metadata": {
        "id": "S-rvxo6r58fJ"
      },
      "execution_count": 18,
      "outputs": []
    },
    {
      "cell_type": "code",
      "source": [
        "# prompt: append sheet \"Comment\" column\n",
        "\n",
        "# Assuming 'df' is already defined from the previous code\n",
        "\n",
        "# Append a new column named \"New_Comment\" to the DataFrame\n",
        "df[\"New_Comment\"] = \"\"  # Initialize the column with empty strings\n",
        "\n",
        "\n",
        "# Update the worksheet with the new column\n",
        "worksheet.update([df.columns.values.tolist()] + df.values.tolist())\n"
      ],
      "metadata": {
        "colab": {
          "base_uri": "https://localhost:8080/"
        },
        "id": "OBkvxOaJ7Ggf",
        "outputId": "957a85f9-2527-478e-f8f1-416823b81eeb"
      },
      "execution_count": 19,
      "outputs": [
        {
          "output_type": "execute_result",
          "data": {
            "text/plain": [
              "{'spreadsheetId': '11M9xHDCtFW627UVEAEygpuUk7RBXOSm9H-e-YMp17sA',\n",
              " 'updatedRange': 'IG_COMMENTS!A1:I1106',\n",
              " 'updatedRows': 1106,\n",
              " 'updatedColumns': 9,\n",
              " 'updatedCells': 9954}"
            ]
          },
          "metadata": {},
          "execution_count": 19
        }
      ]
    },
    {
      "cell_type": "code",
      "source": [
        "# Asegurar que las columnas correctas tienen texto\n",
        "df[\"Comment\"] = df[\"Comment\"].astype(str)\n",
        "df[\"Url_Post\"] = df[\"Url_Post\"].astype(str)"
      ],
      "metadata": {
        "id": "zS1UHzL5_9s8"
      },
      "execution_count": 20,
      "outputs": []
    },
    {
      "cell_type": "code",
      "source": [
        "app = Dash(__name__)\n",
        "\n",
        "app.layout = html.Div([\n",
        "    html.H1(\"Comentarios de Instagram - Filtro Dinámico\"),\n",
        "\n",
        "    # Dropdown para seleccionar la URL del post\n",
        "    dcc.Dropdown(\n",
        "        id=\"url_post_filter\",\n",
        "        options=[{\"label\": url, \"value\": url} for url in df[\"Url_Post\"].unique()],\n",
        "        placeholder=\"Selecciona una URL del post\",\n",
        "        multi=False\n",
        "    ),\n",
        "\n",
        "    # Input para buscar palabras en los comentarios\n",
        "    dcc.Input(\n",
        "        id=\"search_term\",\n",
        "        type=\"text\",\n",
        "        placeholder=\"Buscar palabras en comentarios\",\n",
        "        debounce=True\n",
        "    ),\n",
        "\n",
        "    # Tabla de comentarios\n",
        "    dash_table.DataTable(\n",
        "        id=\"comments_table\",\n",
        "        columns=[{\"name\": col, \"id\": col} for col in df.columns],\n",
        "        page_size=10,\n",
        "        style_table={'overflowX': 'auto'}\n",
        "    )\n",
        "])\n",
        "\n",
        "# Callback para filtrar la tabla dinámicamente\n",
        "@app.callback(\n",
        "    Output(\"comments_table\", \"data\"),\n",
        "    Input(\"url_post_filter\", \"value\"),\n",
        "    Input(\"search_term\", \"value\")\n",
        ")\n",
        "def update_table(selected_url, search_term):\n",
        "    filtered_df = df.copy()\n",
        "\n",
        "    # Filtrar por URL del post\n",
        "    if selected_url:\n",
        "        filtered_df = filtered_df[filtered_df[\"Url_Post\"] == selected_url]\n",
        "\n",
        "    # Filtrar por palabras clave en los comentarios\n",
        "    if search_term:\n",
        "        filtered_df = filtered_df[filtered_df[\"Comment\"].str.contains(search_term, case=False, na=False)]\n",
        "\n",
        "    return filtered_df.to_dict(\"records\")\n",
        "\n",
        "if __name__ == \"__main__\":\n",
        "    app.run_server(debug=True)\n"
      ],
      "metadata": {
        "colab": {
          "base_uri": "https://localhost:8080/",
          "height": 672
        },
        "id": "RVldUxGfAKPg",
        "outputId": "ae729956-92d5-45d5-beca-87077f365bbe"
      },
      "execution_count": 21,
      "outputs": [
        {
          "output_type": "display_data",
          "data": {
            "text/plain": [
              "<IPython.core.display.Javascript object>"
            ],
            "application/javascript": [
              "(async (port, path, width, height, cache, element) => {\n",
              "    if (!google.colab.kernel.accessAllowed && !cache) {\n",
              "      return;\n",
              "    }\n",
              "    element.appendChild(document.createTextNode(''));\n",
              "    const url = await google.colab.kernel.proxyPort(port, {cache});\n",
              "    const iframe = document.createElement('iframe');\n",
              "    iframe.src = new URL(path, url).toString();\n",
              "    iframe.height = height;\n",
              "    iframe.width = width;\n",
              "    iframe.style.border = 0;\n",
              "    iframe.allow = [\n",
              "        'accelerometer',\n",
              "        'autoplay',\n",
              "        'camera',\n",
              "        'clipboard-read',\n",
              "        'clipboard-write',\n",
              "        'gyroscope',\n",
              "        'magnetometer',\n",
              "        'microphone',\n",
              "        'serial',\n",
              "        'usb',\n",
              "        'xr-spatial-tracking',\n",
              "    ].join('; ');\n",
              "    element.appendChild(iframe);\n",
              "  })(8050, \"/\", \"100%\", 650, false, window.element)"
            ]
          },
          "metadata": {}
        }
      ]
    }
  ]
}